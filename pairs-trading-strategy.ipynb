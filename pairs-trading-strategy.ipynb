{
 "cells": [
  {
   "cell_type": "markdown",
   "metadata": {},
   "source": [
    "A negociação de pares (às vezes chamada de arbitragem estatística) é uma forma de negociar uma relação econômica entre duas ações. Por exemplo, duas empresas que fabricam um produto similar com a mesma cadeia de suprimentos serão impactadas pelas mesmas forças econômicas. A negociação de pares tenta modelar esse relacionamento e ganhar dinheiro quando o relacionamento se rompe temporariamente.\n",
    "\n",
    "A negociação de pares depende da cointegração. A cointegração é um método estatístico para testar a estacionariedade entre duas séries temporais. A estacionaridade descreve uma série temporal que não tem tendência, uma variação constante ao longo do tempo e nenhuma sazonalidade. O \"par\" é uma combinação linear de ambas as ações: uma que você compra e outra que você vende.\n",
    "\n",
    "A negociação de pares explora quebras periódicas nas relações econômicas.\n",
    "Um cenário ideal de negociação de pares é quando duas ações são cointegradas. Em outras palavras, há uma combinação linear estável entre eles. A estratégia entrará em negociações se esse relacionamento for rompido.\n",
    "\n",
    "O segredo da negociação de pares é escolher os pares certos para negociar. Para fazer isso, os traders começam com baldes de ações relacionadas economicamente. Em seguida, eles usam grandes conjuntos de dados para analisar milhões de pares para encontrar anomalias a serem exploradas."
   ]
  },
  {
   "cell_type": "markdown",
   "metadata": {},
   "source": [
    "### **Step 1: Get the data**"
   ]
  },
  {
   "cell_type": "code",
   "execution_count": 2,
   "metadata": {},
   "outputs": [],
   "source": [
    "import numpy as np\n",
    "import pandas as pd\n",
    "\n",
    "import statsmodels.api as sm\n",
    "from statsmodels.tsa.stattools import coint\n",
    "from statsmodels.regression.rolling import RollingOLS\n",
    "\n",
    "import yfinance as yf\n",
    "import seaborn\n",
    "import matplotlib.pyplot as plt"
   ]
  },
  {
   "cell_type": "code",
   "execution_count": 3,
   "metadata": {},
   "outputs": [
    {
     "name": "stdout",
     "output_type": "stream",
     "text": [
      "[*********************100%***********************]  5 of 5 completed\n"
     ]
    }
   ],
   "source": [
    "symbol_list = ['META', 'AMZN', 'AAPL', 'NFLX', 'GOOG']\n",
    "\n",
    "data = yf.download(\n",
    "    symbol_list, \n",
    "    start='2014-01-01', \n",
    "    end='2015-01-01'\n",
    ")['Adj Close']"
   ]
  },
  {
   "cell_type": "markdown",
   "metadata": {},
   "source": [
    "### **Etapa 2: encontrar pares cointegrados**\n",
    "\n",
    "A próxima etapa é percorrer as diferentes combinações de pares para testar se eles são cointegrados (consulte o Aviso abaixo)."
   ]
  },
  {
   "cell_type": "code",
   "execution_count": 5,
   "metadata": {},
   "outputs": [],
   "source": [
    "def find_cointegrated_pairs(data):\n",
    "\n",
    "    n             = data.shape[1]\n",
    "    score_matrix  = np.zeros((n, n))\n",
    "    pvalue_matrix = np.ones((n, n))\n",
    "    keys          = data.keys()\n",
    "    pairs         = []\n",
    "    \n",
    "    for i in range(n):\n",
    "        for j in range(i+1, n):\n",
    "            S1 = data[keys[i]]\n",
    "            S2 = data[keys[j]]\n",
    "            result = coint(S1, S2)\n",
    "            score = result[0]\n",
    "            pvalue = result[1]\n",
    "            score_matrix[i, j] = score\n",
    "            pvalue_matrix[i, j] = pvalue\n",
    "            if pvalue < 0.05:\n",
    "                pairs.append((keys[i], keys[j]))\n",
    "    \n",
    "    return score_matrix, pvalue_matrix, pairs"
   ]
  },
  {
   "cell_type": "markdown",
   "metadata": {},
   "source": [
    "Essa função percorre uma lista de títulos e testa a cointegração entre todos os pares. Ele retorna uma matriz de pontuação do teste de cointegração, uma matriz de valor-p e quaisquer pares para os quais o valor-p foi inferior a 0,05.\n",
    "\n",
    "Em seguida, execute a função em nossos dados de estoque."
   ]
  },
  {
   "cell_type": "code",
   "execution_count": 6,
   "metadata": {},
   "outputs": [],
   "source": [
    "scores, pvalues, pairs = find_cointegrated_pairs(data)"
   ]
  },
  {
   "cell_type": "code",
   "execution_count": 10,
   "metadata": {},
   "outputs": [
    {
     "data": {
      "image/png": "[encoded data removed]",
      "text/plain": [
       "<Figure size 432x288 with 2 Axes>"
      ]
     },
     "metadata": {
      "needs_background": "light"
     },
     "output_type": "display_data"
    }
   ],
   "source": [
    "seaborn.heatmap(\n",
    "    pvalues, \n",
    "    xticklabels=symbol_list, \n",
    "    yticklabels=symbol_list, \n",
    "    mask = (pvalues >= 0.05)\n",
    ");"
   ]
  },
  {
   "cell_type": "markdown",
   "metadata": {},
   "source": [
    "Parece que **AMZN** e **AAPL** são co-integrados!\n",
    "\n",
    "### **Passo 3: Modele o spread**\n",
    "\n",
    "Agora que você encontrou um par, execute uma regressão linear usando statsmodels e modele o spread como uma combinação linear de **AAPL** e **AMZN**. *b* é o coeficiente beta da regressão linear, também conhecido como \"taxa de cobertura\"."
   ]
  },
  {
   "cell_type": "code",
   "execution_count": 11,
   "metadata": {},
   "outputs": [
    {
     "ename": "NameError",
     "evalue": "name 'S1' is not defined",
     "output_type": "error",
     "traceback": [
      "\u001b[1;31m---------------------------------------------------------------------------\u001b[0m",
      "\u001b[1;31mNameError\u001b[0m                                 Traceback (most recent call last)",
      "\u001b[1;32m<ipython-input-11-8ca73038d651>\u001b[0m in \u001b[0;36m<module>\u001b[1;34m\u001b[0m\n\u001b[1;32m----> 1\u001b[1;33m \u001b[0mS1\u001b[0m \u001b[1;33m=\u001b[0m \u001b[0msm\u001b[0m\u001b[1;33m.\u001b[0m\u001b[0madd_constant\u001b[0m\u001b[1;33m(\u001b[0m\u001b[0mS1\u001b[0m\u001b[1;33m)\u001b[0m\u001b[1;33m\u001b[0m\u001b[1;33m\u001b[0m\u001b[0m\n\u001b[0m\u001b[0;32m      2\u001b[0m \u001b[0mresults\u001b[0m \u001b[1;33m=\u001b[0m \u001b[0msm\u001b[0m\u001b[1;33m.\u001b[0m\u001b[0mOLS\u001b[0m\u001b[1;33m(\u001b[0m\u001b[0mS2\u001b[0m\u001b[1;33m,\u001b[0m \u001b[0mS1\u001b[0m\u001b[1;33m)\u001b[0m\u001b[1;33m.\u001b[0m\u001b[0mfit\u001b[0m\u001b[1;33m(\u001b[0m\u001b[1;33m)\u001b[0m\u001b[1;33m\u001b[0m\u001b[1;33m\u001b[0m\u001b[0m\n\u001b[0;32m      3\u001b[0m \u001b[0mS1\u001b[0m \u001b[1;33m=\u001b[0m \u001b[0mS1\u001b[0m\u001b[1;33m.\u001b[0m\u001b[0mAMZN\u001b[0m\u001b[1;33m\u001b[0m\u001b[1;33m\u001b[0m\u001b[0m\n\u001b[0;32m      4\u001b[0m \u001b[0mb\u001b[0m \u001b[1;33m=\u001b[0m \u001b[0mresults\u001b[0m\u001b[1;33m.\u001b[0m\u001b[0mparams\u001b[0m\u001b[1;33m[\u001b[0m\u001b[1;34m'AMZN'\u001b[0m\u001b[1;33m]\u001b[0m\u001b[1;33m\u001b[0m\u001b[1;33m\u001b[0m\u001b[0m\n\u001b[0;32m      5\u001b[0m \u001b[0mspread\u001b[0m \u001b[1;33m=\u001b[0m \u001b[0mS2\u001b[0m \u001b[1;33m-\u001b[0m \u001b[0mb\u001b[0m \u001b[1;33m*\u001b[0m \u001b[0mS1\u001b[0m\u001b[1;33m\u001b[0m\u001b[1;33m\u001b[0m\u001b[0m\n",
      "\u001b[1;31mNameError\u001b[0m: name 'S1' is not defined"
     ]
    }
   ],
   "source": [
    "S1 = sm.add_constant(S1)\n",
    "results = sm.OLS(S2, S1).fit()\n",
    "S1 = S1.AMZN\n",
    "b = results.params['AMZN']\n",
    "spread = S2 - b * S1"
   ]
  },
  {
   "cell_type": "code",
   "execution_count": 12,
   "metadata": {},
   "outputs": [
    {
     "ename": "NameError",
     "evalue": "name 'spread' is not defined",
     "output_type": "error",
     "traceback": [
      "\u001b[1;31m---------------------------------------------------------------------------\u001b[0m",
      "\u001b[1;31mNameError\u001b[0m                                 Traceback (most recent call last)",
      "\u001b[1;32m<ipython-input-12-5b686cb323bf>\u001b[0m in \u001b[0;36m<module>\u001b[1;34m\u001b[0m\n\u001b[1;32m----> 1\u001b[1;33m \u001b[0mspread\u001b[0m\u001b[1;33m.\u001b[0m\u001b[0mplot\u001b[0m\u001b[1;33m(\u001b[0m\u001b[1;33m)\u001b[0m\u001b[1;33m\u001b[0m\u001b[1;33m\u001b[0m\u001b[0m\n\u001b[0m\u001b[0;32m      2\u001b[0m \u001b[0mplt\u001b[0m\u001b[1;33m.\u001b[0m\u001b[0maxhline\u001b[0m\u001b[1;33m(\u001b[0m\u001b[0mspread\u001b[0m\u001b[1;33m.\u001b[0m\u001b[0mmean\u001b[0m\u001b[1;33m(\u001b[0m\u001b[1;33m)\u001b[0m\u001b[1;33m,\u001b[0m \u001b[0mcolor\u001b[0m\u001b[1;33m=\u001b[0m\u001b[1;34m'black'\u001b[0m\u001b[1;33m)\u001b[0m\u001b[1;33m\u001b[0m\u001b[1;33m\u001b[0m\u001b[0m\n\u001b[0;32m      3\u001b[0m \u001b[0mplt\u001b[0m\u001b[1;33m.\u001b[0m\u001b[0mlegend\u001b[0m\u001b[1;33m(\u001b[0m\u001b[1;33m[\u001b[0m\u001b[1;34m'Spread'\u001b[0m\u001b[1;33m]\u001b[0m\u001b[1;33m)\u001b[0m\u001b[1;33m;\u001b[0m\u001b[1;33m\u001b[0m\u001b[1;33m\u001b[0m\u001b[0m\n",
      "\u001b[1;31mNameError\u001b[0m: name 'spread' is not defined"
     ]
    }
   ],
   "source": [
    "spread.plot()\n",
    "plt.axhline(spread.mean(), color='black')\n",
    "plt.legend(['Spread']);"
   ]
  },
  {
   "cell_type": "markdown",
   "metadata": {},
   "source": [
    "### **Passo 4: Crie uma estratégia de negociação simples**\n",
    "\n",
    "Você compra o spread quando fica \"muito baixo\" e vende o spread quando fica \"muito alto\". Mas o que é muito baixo e muito alto? Use o z-score para normalizar o spread e use-o como sinal de negociação. Se você comprar o par, você compra AAPL e vende b ações da AMZN. Se você vender o par, você vende AAPL e compra b ações da AMZN."
   ]
  },
  {
   "cell_type": "code",
   "execution_count": 13,
   "metadata": {},
   "outputs": [
    {
     "ename": "NameError",
     "evalue": "name 'spread' is not defined",
     "output_type": "error",
     "traceback": [
      "\u001b[1;31m---------------------------------------------------------------------------\u001b[0m",
      "\u001b[1;31mNameError\u001b[0m                                 Traceback (most recent call last)",
      "\u001b[1;32m<ipython-input-13-9fd7847217cb>\u001b[0m in \u001b[0;36m<module>\u001b[1;34m\u001b[0m\n\u001b[0;32m      2\u001b[0m     \u001b[1;32mreturn\u001b[0m \u001b[1;33m(\u001b[0m\u001b[0mseries\u001b[0m \u001b[1;33m-\u001b[0m \u001b[0mseries\u001b[0m\u001b[1;33m.\u001b[0m\u001b[0mmean\u001b[0m\u001b[1;33m(\u001b[0m\u001b[1;33m)\u001b[0m\u001b[1;33m)\u001b[0m \u001b[1;33m/\u001b[0m \u001b[0mnp\u001b[0m\u001b[1;33m.\u001b[0m\u001b[0mstd\u001b[0m\u001b[1;33m(\u001b[0m\u001b[0mseries\u001b[0m\u001b[1;33m)\u001b[0m\u001b[1;33m\u001b[0m\u001b[1;33m\u001b[0m\u001b[0m\n\u001b[0;32m      3\u001b[0m \u001b[1;33m\u001b[0m\u001b[0m\n\u001b[1;32m----> 4\u001b[1;33m \u001b[0mzscore\u001b[0m\u001b[1;33m(\u001b[0m\u001b[0mspread\u001b[0m\u001b[1;33m)\u001b[0m\u001b[1;33m.\u001b[0m\u001b[0mplot\u001b[0m\u001b[1;33m(\u001b[0m\u001b[1;33m)\u001b[0m\u001b[1;33m\u001b[0m\u001b[1;33m\u001b[0m\u001b[0m\n\u001b[0m\u001b[0;32m      5\u001b[0m \u001b[0mplt\u001b[0m\u001b[1;33m.\u001b[0m\u001b[0maxhline\u001b[0m\u001b[1;33m(\u001b[0m\u001b[0mzscore\u001b[0m\u001b[1;33m(\u001b[0m\u001b[0mspread\u001b[0m\u001b[1;33m)\u001b[0m\u001b[1;33m.\u001b[0m\u001b[0mmean\u001b[0m\u001b[1;33m(\u001b[0m\u001b[1;33m)\u001b[0m\u001b[1;33m,\u001b[0m \u001b[0mcolor\u001b[0m\u001b[1;33m=\u001b[0m\u001b[1;34m'black'\u001b[0m\u001b[1;33m)\u001b[0m\u001b[1;33m\u001b[0m\u001b[1;33m\u001b[0m\u001b[0m\n\u001b[0;32m      6\u001b[0m \u001b[0mplt\u001b[0m\u001b[1;33m.\u001b[0m\u001b[0maxhline\u001b[0m\u001b[1;33m(\u001b[0m\u001b[1;36m1.0\u001b[0m\u001b[1;33m,\u001b[0m \u001b[0mcolor\u001b[0m\u001b[1;33m=\u001b[0m\u001b[1;34m'red'\u001b[0m\u001b[1;33m,\u001b[0m \u001b[0mlinestyle\u001b[0m\u001b[1;33m=\u001b[0m\u001b[1;34m'--'\u001b[0m\u001b[1;33m)\u001b[0m\u001b[1;33m\u001b[0m\u001b[1;33m\u001b[0m\u001b[0m\n",
      "\u001b[1;31mNameError\u001b[0m: name 'spread' is not defined"
     ]
    }
   ],
   "source": [
    "def zscore(series):\n",
    "    return (series - series.mean()) / np.std(series)\n",
    "\n",
    "zscore(spread).plot()\n",
    "plt.axhline(zscore(spread).mean(), color='black')\n",
    "plt.axhline(1.0, color='red', linestyle='--')\n",
    "plt.axhline(-1.0, color='green', linestyle='--')\n",
    "plt.legend(['Spread z-score', 'Mean', '+1', '-1']);"
   ]
  },
  {
   "cell_type": "markdown",
   "metadata": {},
   "source": [
    "Primeiro, construa uma função que plote o z-score. Se você não está familiarizado com o z-score, pode aprender mais sobre ele aqui.\n",
    "\n",
    "Em seguida, estime a curva patrimonial de compra e venda do par."
   ]
  },
  {
   "cell_type": "code",
   "execution_count": null,
   "metadata": {},
   "outputs": [],
   "source": [
    "# Create a DataFrmae with the signal and position size in the pair\n",
    "trades = pd.concat([zscore(spread), S2 - b * S1], axis=1)\n",
    "trades.columns = [\"signal\", \"position\"]\n",
    "\n",
    "# Add a long and short position at the z-score levels\n",
    "trades[\"side\"] = 0.0\n",
    "trades.loc[trades.signal <= -1, \"side\"] = 1\n",
    "trades.loc[trades.signal >= 1, \"side\"] = -1"
   ]
  },
  {
   "cell_type": "markdown",
   "metadata": {},
   "source": [
    "Primeiro, crie um DataFrame com o sinal e a posição no par. Em seguida, adicione uma coluna ao DataFrame e preencha-a com 1 quando o sinal for menor ou igual a -1 e -1 quando o sinal for maior ou igual a 1.\n",
    "\n",
    "Por fim, trace a curva de patrimônio líquido."
   ]
  },
  {
   "cell_type": "code",
   "execution_count": null,
   "metadata": {},
   "outputs": [],
   "source": [
    "returns = trades.position.pct_change() * trades.side\n",
    "returns.cumsum().plot()"
   ]
  },
  {
   "cell_type": "markdown",
   "metadata": {},
   "source": [
    "Este par está constantemente perdendo dinheiro. Isso pode significar algumas coisas. Primeiro, não existe combinação linear estacionária e temos um falso positivo. Ou não há nenhuma relação econômica real que impulsione as duas ações. Ou, há uma combinação linear e há uma relação econômica, mas a relação continuou a se romper durante o quadro que você usou.\n",
    "\n",
    "***Aviso:***\n",
    "Este é apenas um exemplo, logo existem algumas ressalvas importantes a serem observadas:\n",
    "\n",
    "- A negociação de pares assume que os preços das ações são integrados. Tecnicamente, isso significa que uma combinação linear de preços varia em torno de uma média estável na mesma distribuição. Na prática, os traders usam testes de Dickey Fuller aumentados, expoentes de Hurst e filtros de Kalman para testar a cointegração.\n",
    "- Percorrer pares para encontrar valores-p aumenta a probabilidade de encontrar incorretamente um valor-p significativo quando muitos testes são executados (um falso positivo). Comece com a lógica econômica de por que duas ações devem ser cointegradas. Na prática, os traders escolhem um punhado de ações com vínculos econômicos e as testam.\n",
    "​"
   ]
  }
 ],
 "metadata": {
  "kernelspec": {
   "display_name": "Python 3.8.8 ('base')",
   "language": "python",
   "name": "python3"
  },
  "language_info": {
   "codemirror_mode": {
    "name": "ipython",
    "version": 3
   },
   "file_extension": ".py",
   "mimetype": "text/x-python",
   "name": "python",
   "nbconvert_exporter": "python",
   "pygments_lexer": "ipython3",
   "version": "3.8.8"
  },
  "orig_nbformat": 4,
  "vscode": {
   "interpreter": {
    "hash": "d66728ff6f4e2202fb15d3c6f4866efe078426253628d23ac9902b87e074e635"
   }
  }
 },
 "nbformat": 4,
 "nbformat_minor": 2
}
